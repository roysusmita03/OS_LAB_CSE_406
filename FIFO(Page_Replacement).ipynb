{
  "nbformat": 4,
  "nbformat_minor": 0,
  "metadata": {
    "colab": {
      "provenance": []
    },
    "kernelspec": {
      "name": "python3",
      "display_name": "Python 3"
    },
    "language_info": {
      "name": "python"
    }
  },
  "cells": [
    {
      "cell_type": "code",
      "execution_count": 1,
      "metadata": {
        "colab": {
          "base_uri": "https://localhost:8080/"
        },
        "id": "xTimLdNUhcip",
        "outputId": "5f0f3259-1c0e-47c2-f645-8b3e5ec71225"
      },
      "outputs": [
        {
          "output_type": "stream",
          "name": "stdout",
          "text": [
            "\n",
            "Total Page Faults: 6\n"
          ]
        }
      ],
      "source": [
        "pages = [1, 3, 0, 3, 5, 6, 3]\n",
        "frame_size = 3\n",
        "\n",
        "frames = []\n",
        "page_faults = 0\n",
        "\n",
        "for page in pages:\n",
        "    if page not in frames:\n",
        "        page_faults += 1\n",
        "        if len(frames) < frame_size:\n",
        "            frames.append(page)\n",
        "        else:\n",
        "            frames.pop(0)\n",
        "            frames.append(page)\n",
        "\n",
        "print(f\"\\nTotal Page Faults: {page_faults}\")"
      ]
    }
  ]
}