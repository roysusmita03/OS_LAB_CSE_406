{
  "nbformat": 4,
  "nbformat_minor": 0,
  "metadata": {
    "colab": {
      "provenance": []
    },
    "kernelspec": {
      "name": "python3",
      "display_name": "Python 3"
    },
    "language_info": {
      "name": "python"
    }
  },
  "cells": [
    {
      "cell_type": "code",
      "execution_count": 1,
      "metadata": {
        "colab": {
          "base_uri": "https://localhost:8080/"
        },
        "id": "CkF3skmtzHZo",
        "outputId": "42e98619-502b-4ed0-a061-46b69777e33a"
      },
      "outputs": [
        {
          "output_type": "stream",
          "name": "stdout",
          "text": [
            "\n",
            "Total Page Faults: 10\n",
            "Total Page Hits: 3\n"
          ]
        }
      ],
      "source": [
        "pages= [0,1,5,3,5,0,2,4,7,9,0,0,3]\n",
        "frame_size=4\n",
        "frames = []\n",
        "page_faults= 0\n",
        "page_hits= 0\n",
        "\n",
        "for page in pages:\n",
        "    if page in frames:\n",
        "        page_hits += 1\n",
        "    else:\n",
        "        page_faults += 1\n",
        "        if len(frames) < frame_size:\n",
        "            frames.append(page)\n",
        "        else:\n",
        "            frames.pop(0)\n",
        "            frames.append(page)\n",
        "\n",
        "print(f\"\\nTotal Page Faults: {page_faults}\")\n",
        "print(f\"Total Page Hits: {page_hits}\")\n"
      ]
    },
    {
      "cell_type": "code",
      "source": [
        "from collections import deque\n",
        "\n",
        "num_processes=6\n",
        "processes=[\"p1\", \"p2\", \"p3\", \"p4\",\"p5\",\"p6\"]\n",
        "arrival_times=[0,1,2,3,4,4]\n",
        "burst_times=[7,4,15,11,20,9]\n",
        "time_quantum=5\n",
        "n = num_processes\n",
        "remaining_burst=burst_times[:]\n",
        "completion_time=[0,0,0,0,0,0]\n",
        "turnaround_time=[0,0,0,0,0,0]\n",
        "waiting_time=[0,0,0,0,0,0]\n",
        "response_time=[-1,-1,-1,-1,-1,-1]\n",
        "queue = deque()\n",
        "current_time = 0\n",
        "index = 0\n",
        "running_queue = []\n",
        "\n",
        "while index < n or queue:\n",
        "    while index < n and arrival_times[index] <= current_time:\n",
        "        queue.append(index)\n",
        "        index += 1\n",
        "\n",
        "    if queue:\n",
        "        i = queue.popleft()\n",
        "        running_queue.append(processes[i])\n",
        "\n",
        "        if response_time[i] == -1:\n",
        "            response_time[i] = current_time - arrival_times[i]\n",
        "\n",
        "        exec_time = min(time_quantum, remaining_burst[i])\n",
        "        remaining_burst[i] -= exec_time\n",
        "        current_time += exec_time\n",
        "\n",
        "        while index < n and arrival_times[index] <= current_time:\n",
        "            queue.append(index)\n",
        "            index += 1\n",
        "\n",
        "        if remaining_burst[i] > 0:\n",
        "            queue.append(i)\n",
        "        else:\n",
        "            completion_time[i] = current_time\n",
        "            turnaround_time[i] = completion_time[i] - arrival_times[i]\n",
        "            waiting_time[i] = turnaround_time[i] - burst_times[i]\n",
        "    else:\n",
        "        current_time = arrival_times[index]\n",
        "\n",
        "\n",
        "print(\"Running Queue:\")\n",
        "print(running_queue)\n",
        "print(\"\\nProcess\\tArrivalTime\\tBurstTime\\tCompletionTime\\tTurnaroundTime\\tWaitingTime\")\n",
        "for i in range(n):\n",
        "    print(f\"{processes[i]}\\t{arrival_times[i]}\\t\\t{burst_times[i]}\\t\\t{completion_time[i]}\\t\\t{turnaround_time[i]}\\t\\t{waiting_time[i]}\")\n"
      ],
      "metadata": {
        "colab": {
          "base_uri": "https://localhost:8080/"
        },
        "id": "EdJqbV7vEcpZ",
        "outputId": "6764540a-57da-4b5b-cfed-14ea65dce312"
      },
      "execution_count": 12,
      "outputs": [
        {
          "output_type": "stream",
          "name": "stdout",
          "text": [
            "Running Queue:\n",
            "['p1', 'p2', 'p3', 'p4', 'p5', 'p6', 'p1', 'p3', 'p4', 'p5', 'p6', 'p3', 'p4', 'p5', 'p5']\n",
            "\n",
            "Process\tArrivalTime\tBurstTime\tCompletionTime\tTurnaroundTime\tWaitingTime\n",
            "p1\t0\t\t7\t\t31\t\t31\t\t24\n",
            "p2\t1\t\t4\t\t9\t\t8\t\t4\n",
            "p3\t2\t\t15\t\t55\t\t53\t\t38\n",
            "p4\t3\t\t11\t\t56\t\t53\t\t42\n",
            "p5\t4\t\t20\t\t66\t\t62\t\t42\n",
            "p6\t4\t\t9\t\t50\t\t46\t\t37\n"
          ]
        }
      ]
    }
  ]
}