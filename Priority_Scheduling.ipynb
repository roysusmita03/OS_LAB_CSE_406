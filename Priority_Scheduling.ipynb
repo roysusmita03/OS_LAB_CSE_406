{
  "nbformat": 4,
  "nbformat_minor": 0,
  "metadata": {
    "colab": {
      "provenance": []
    },
    "kernelspec": {
      "name": "python3",
      "display_name": "Python 3"
    },
    "language_info": {
      "name": "python"
    }
  },
  "cells": [
    {
      "cell_type": "code",
      "source": [
        "pid  = [\"p1\", \"p2\", \"p3\", \"p4\"]\n",
        "pri  = [10, 20, 30, 40]\n",
        "at   = [0, 1, 3, 4]\n",
        "bt   = [5, 4, 2, 1]\n",
        "\n",
        "n = 4\n",
        "rt = bt[:]\n",
        "ct = [0,0,0,0]\n",
        "tat = [0,0,0,0]\n",
        "wt = [0,0,0,0]\n",
        "\n",
        "time_quantum = 2\n",
        "current_time = 0\n",
        "completed = 0\n",
        "running_queue =[]\n",
        "while completed < n:\n",
        "    idx = -1\n",
        "    highest_priority = -1\n",
        "\n",
        "\n",
        "    for i in range(n):\n",
        "        if at[i] <= current_time and rt[i] > 0:\n",
        "            if pri[i] > highest_priority:\n",
        "                highest_priority = pri[i]\n",
        "                idx = i\n",
        "\n",
        "    if idx == -1:\n",
        "        current_time += 1\n",
        "        continue\n",
        "\n",
        "    running_queue.append(pid[idx])\n",
        "    exec_time = min(time_quantum, rt[idx])\n",
        "    rt[idx] -= exec_time\n",
        "    current_time += exec_time\n",
        "\n",
        "\n",
        "    if rt[idx] == 0:\n",
        "        ct[idx] = current_time\n",
        "        tat[idx] = ct[idx] - at[idx]\n",
        "        wt[idx] = tat[idx] - bt[idx]\n",
        "        completed += 1\n",
        "\n",
        "print(\"Running Queue:\")\n",
        "print(running_queue)\n",
        "print(\"Pid\\tPriority\\tAT\\tBT\\tCT\\tTAT\\tWT\")\n",
        "for i in range(n):\n",
        "    print(f\"{pid[i]}\\t{pri[i]}\\t\\t{at[i]}\\t{bt[i]}\\t{ct[i]}\\t{tat[i]}\\t{wt[i]}\")\n",
        "\n"
      ],
      "metadata": {
        "colab": {
          "base_uri": "https://localhost:8080/"
        },
        "id": "iO6YeZ7bhQwD",
        "outputId": "a5fa04e2-3a6e-401a-d236-d3717ba1f625"
      },
      "execution_count": null,
      "outputs": [
        {
          "output_type": "stream",
          "name": "stdout",
          "text": [
            "Running Queue:\n",
            "['p1', 'p2', 'p4', 'p3', 'p2', 'p1', 'p1']\n",
            "Pid\tPriority\tAT\tBT\tCT\tTAT\tWT\n",
            "p1\t10\t\t0\t5\t12\t12\t7\n",
            "p2\t20\t\t1\t4\t9\t8\t4\n",
            "p3\t30\t\t3\t2\t7\t4\t2\n",
            "p4\t40\t\t4\t1\t5\t1\t0\n"
          ]
        }
      ]
    }
  ]
}