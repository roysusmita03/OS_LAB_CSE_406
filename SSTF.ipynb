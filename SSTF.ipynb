{
  "nbformat": 4,
  "nbformat_minor": 0,
  "metadata": {
    "colab": {
      "provenance": []
    },
    "kernelspec": {
      "name": "python3",
      "display_name": "Python 3"
    },
    "language_info": {
      "name": "python"
    }
  },
  "cells": [
    {
      "cell_type": "code",
      "source": [
        "def sstf_disk_scheduling(initial_head, requests):\n",
        "    head = initial_head\n",
        "    seek_sequence = []\n",
        "    total_seek = 0\n",
        "    remaining_requests = requests.copy()\n",
        "\n",
        "    while remaining_requests:\n",
        "\n",
        "        closest_request = min(remaining_requests, key=lambda x: abs(x - head))\n",
        "        seek_time = abs(closest_request - head)\n",
        "        total_seek += seek_time\n",
        "        seek_sequence.append(closest_request)\n",
        "        head = closest_request\n",
        "        remaining_requests.remove(closest_request)\n",
        "\n",
        "    return seek_sequence, total_seek\n",
        "\n",
        "\n",
        "if __name__ == \"__main__\":\n",
        "    initial_head_position = 53\n",
        "    request_queue = [0, 14, 41, 53, 65, 67, 98, 122, 124, 183, 199]\n",
        "\n",
        "    sequence, total_seek_ops = sstf_disk_scheduling(initial_head_position, request_queue)\n",
        "\n",
        "    print(\"SSTF Seek Sequence:\", sequence)\n",
        "    print(\"Total Seek Operations:\", total_seek_ops)"
      ],
      "metadata": {
        "colab": {
          "base_uri": "https://localhost:8080/"
        },
        "id": "uOINL2FkZZH6",
        "outputId": "94d6c331-eef2-4301-b9c3-36bcef401431"
      },
      "execution_count": 8,
      "outputs": [
        {
          "output_type": "stream",
          "name": "stdout",
          "text": [
            "SSTF Seek Sequence: [53, 41, 65, 67, 98, 122, 124, 183, 199, 14, 0]\n",
            "Total Seek Operations: 369\n"
          ]
        }
      ]
    }
  ]
}