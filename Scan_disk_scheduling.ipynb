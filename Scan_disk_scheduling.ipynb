{
  "nbformat": 4,
  "nbformat_minor": 0,
  "metadata": {
    "colab": {
      "provenance": []
    },
    "kernelspec": {
      "name": "python3",
      "display_name": "Python 3"
    },
    "language_info": {
      "name": "python"
    }
  },
  "cells": [
    {
      "cell_type": "code",
      "source": [
        "def scan_disk_scheduling(requests, head, direction=\"right\", disk_size=199):\n",
        "    requests.sort()\n",
        "    seek_sequence = []\n",
        "    total_seek = 0\n",
        "    current_position = head\n",
        "\n",
        "    left = [req for req in requests if req < head]\n",
        "    right = [req for req in requests if req >= head]\n",
        "\n",
        "    if direction == \"right\":\n",
        "\n",
        "        for track in right:\n",
        "            seek_sequence.append(track)\n",
        "            total_seek += abs(current_position - track)\n",
        "            current_position = track\n",
        "\n",
        "\n",
        "        if left:\n",
        "\n",
        "            if current_position != disk_size:\n",
        "                total_seek += abs(current_position - disk_size)\n",
        "                current_position = disk_size\n",
        "\n",
        "\n",
        "            for track in reversed(left):\n",
        "                seek_sequence.append(track)\n",
        "                total_seek += abs(current_position - track)\n",
        "                current_position = track\n",
        "\n",
        "    elif direction == \"left\":\n",
        "\n",
        "        for track in reversed(left):\n",
        "            seek_sequence.append(track)\n",
        "            total_seek += abs(current_position - track)\n",
        "            current_position = track\n",
        "\n",
        "\n",
        "        if right:\n",
        "            if current_position != 0:\n",
        "                total_seek += abs(current_position - 0)\n",
        "                current_position = 0\n",
        "\n",
        "            for track in right:\n",
        "                seek_sequence.append(track)\n",
        "                total_seek += abs(current_position - track)\n",
        "                current_position = track\n",
        "\n",
        "    return seek_sequence, total_seek\n",
        "\n",
        "\n",
        "request_sequence = [0, 14, 41, 53, 65, 67, 98, 122, 124, 183, 199]\n",
        "head_position = 53\n",
        "\n",
        "sequence, total_seek = scan_disk_scheduling(request_sequence, head_position, direction=\"right\")\n",
        "\n",
        "print(\"Seek Sequence:\", sequence)\n",
        "print(\"Total number of seek operations:\", total_seek)\n"
      ],
      "metadata": {
        "colab": {
          "base_uri": "https://localhost:8080/"
        },
        "id": "H7Rw6Nkbl4sx",
        "outputId": "7828be60-f05c-45d7-f7eb-1120ab86ad50"
      },
      "execution_count": 7,
      "outputs": [
        {
          "output_type": "stream",
          "name": "stdout",
          "text": [
            "Seek Sequence: [53, 65, 67, 98, 122, 124, 183, 199, 41, 14, 0]\n",
            "Total number of seek operations: 345\n"
          ]
        }
      ]
    }
  ]
}