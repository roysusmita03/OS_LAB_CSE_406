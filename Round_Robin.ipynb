{
  "nbformat": 4,
  "nbformat_minor": 0,
  "metadata": {
    "colab": {
      "provenance": []
    },
    "kernelspec": {
      "name": "python3",
      "display_name": "Python 3"
    },
    "language_info": {
      "name": "python"
    }
  },
  "cells": [
    {
      "cell_type": "code",
      "source": [
        "from collections import deque\n",
        "\n",
        "num_processes = 4\n",
        "processes = [\"p1\",\"p2\",\"p3\",\"p4\"]\n",
        "arrival_times = [0,1,2,4]\n",
        "burst_times = [5,4,2,1]\n",
        "time_quantum =2\n",
        "\n",
        "\n",
        "n = num_processes\n",
        "remaining_burst = burst_times[:]\n",
        "completion_time = [0,0,0,0]\n",
        "turnaround_time = [0,0,0,0]\n",
        "waiting_time = [0,0,0,0]\n",
        "response_time = [-1,-1,-1,-1]\n",
        "\n",
        "queue = deque()\n",
        "current_time = 0\n",
        "index = 0\n",
        "\n",
        "\n",
        "while index < n or queue:\n",
        "    while index < n and arrival_times[index] <= current_time:\n",
        "        queue.append(index)\n",
        "        index += 1\n",
        "\n",
        "    if queue:\n",
        "        i = queue.popleft()\n",
        "        if response_time[i] == -1:\n",
        "            response_time[i] = current_time - arrival_times[i]\n",
        "\n",
        "        exec_time = min(time_quantum, remaining_burst[i])\n",
        "        remaining_burst[i] -= exec_time\n",
        "        current_time += exec_time\n",
        "\n",
        "        while index < n and arrival_times[index] <= current_time:\n",
        "            queue.append(index)\n",
        "            index += 1\n",
        "\n",
        "        if remaining_burst[i] > 0:\n",
        "            queue.append(i)\n",
        "        else:\n",
        "            completion_time[i] = current_time\n",
        "            turnaround_time[i] = completion_time[i] - arrival_times[i]\n",
        "            waiting_time[i] = turnaround_time[i] - burst_times[i]\n",
        "    else:\n",
        "        current_time = arrival_times[index]\n",
        "\n",
        "\n",
        "print(\"ProcessTime  ArrivalTime  BurstTime  CompletionTime  TurnaroundTime  WaitingTime\")\n",
        "for i in range(n):\n",
        "    print(f\"{processes[i]}\\t\\t{arrival_times[i]}\\t\\t{burst_times[i]}\\t\\t{completion_time[i]}\\t\\t{turnaround_time[i]}\\t{waiting_time[i]}\")\n"
      ],
      "metadata": {
        "colab": {
          "base_uri": "https://localhost:8080/"
        },
        "id": "HE57UOi1EgF2",
        "outputId": "f1b278f4-cd66-4e9c-dea9-38bebc49bf68"
      },
      "execution_count": null,
      "outputs": [
        {
          "output_type": "stream",
          "name": "stdout",
          "text": [
            "ProcessTime  ArrivalTime  BurstTime  CompletionTime  TurnaroundTime  WaitingTime\n",
            "p1\t\t0\t\t5\t\t12\t\t12\t\t7\n",
            "p2\t\t1\t\t4\t\t11\t\t10\t\t6\n",
            "p3\t\t2\t\t2\t\t6\t\t4\t\t2\n",
            "p4\t\t4\t\t1\t\t9\t\t5\t\t4\n"
          ]
        }
      ]
    }
  ]
}