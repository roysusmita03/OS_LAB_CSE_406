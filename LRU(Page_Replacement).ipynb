{
  "nbformat": 4,
  "nbformat_minor": 0,
  "metadata": {
    "colab": {
      "provenance": []
    },
    "kernelspec": {
      "name": "python3",
      "display_name": "Python 3"
    },
    "language_info": {
      "name": "python"
    }
  },
  "cells": [
    {
      "cell_type": "code",
      "execution_count": 1,
      "metadata": {
        "colab": {
          "base_uri": "https://localhost:8080/"
        },
        "id": "nMYRGp7fqJtf",
        "outputId": "c0cabdb8-9f1c-4d85-ad75-54377a960767"
      },
      "outputs": [
        {
          "output_type": "stream",
          "name": "stdout",
          "text": [
            "\n",
            "Total Page Faults: 6\n"
          ]
        }
      ],
      "source": [
        "pages = [7, 0, 1, 2, 0, 3, 0, 4, 2, 3]\n",
        "frame_size = 4\n",
        "\n",
        "frames = []\n",
        "page_faults = 0\n",
        "\n",
        "for page in pages:\n",
        "    if page not in frames:\n",
        "        page_faults += 1\n",
        "        if len(frames) < frame_size:\n",
        "            frames.append(page)\n",
        "        else:\n",
        "            frames.pop(0)\n",
        "            frames.append(page)\n",
        "    else:\n",
        "        frames.remove(page)\n",
        "        frames.append(page)\n",
        "\n",
        "print(f\"\\nTotal Page Faults: {page_faults}\")\n"
      ]
    }
  ]
}