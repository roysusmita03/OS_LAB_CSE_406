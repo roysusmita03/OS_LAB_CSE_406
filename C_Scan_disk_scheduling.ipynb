{
  "nbformat": 4,
  "nbformat_minor": 0,
  "metadata": {
    "colab": {
      "provenance": []
    },
    "kernelspec": {
      "name": "python3",
      "display_name": "Python 3"
    },
    "language_info": {
      "name": "python"
    }
  },
  "cells": [
    {
      "cell_type": "code",
      "execution_count": 4,
      "metadata": {
        "colab": {
          "base_uri": "https://localhost:8080/"
        },
        "id": "Z2i_1DlYwD-5",
        "outputId": "c8ed51a9-658d-4369-d190-f6094bee5fe9"
      },
      "outputs": [
        {
          "output_type": "stream",
          "name": "stdout",
          "text": [
            "Seek Sequence: [53, 65, 67, 98, 122, 124, 183, 199, 0, 14, 41]\n",
            "Total number of seek operations: 386\n"
          ]
        }
      ],
      "source": [
        "def c_scan(requests, head, disk_size):\n",
        "    requests.sort()\n",
        "    seek_count = 0\n",
        "    seek_sequence = []\n",
        "\n",
        "    right = [r for r in requests if r >= head]\n",
        "    left = [r for r in requests if r < head]\n",
        "\n",
        "\n",
        "    for r in right:\n",
        "        seek_sequence.append(r)\n",
        "        seek_count += abs(head - r)\n",
        "        head = r\n",
        "\n",
        "\n",
        "    if head != disk_size - 1:\n",
        "        seek_count += abs(head - (disk_size - 1))\n",
        "        head = 0\n",
        "        seek_count += (disk_size - 1)\n",
        "\n",
        "\n",
        "    for r in left:\n",
        "        seek_sequence.append(r)\n",
        "        seek_count += abs(head - r)\n",
        "        head = r\n",
        "\n",
        "    print(\"Seek Sequence:\", seek_sequence)\n",
        "    print(\"Total number of seek operations:\", seek_count)\n",
        "\n",
        "\n",
        "\n",
        "request_sequence = [0, 14, 41, 53, 65, 67, 98, 122, 124, 183, 199]\n",
        "head = 53\n",
        "disk_size = 200\n",
        "\n",
        "c_scan(request_sequence, head, disk_size)\n"
      ]
    }
  ]
}