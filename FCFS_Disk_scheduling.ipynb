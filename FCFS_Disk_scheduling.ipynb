{
  "nbformat": 4,
  "nbformat_minor": 0,
  "metadata": {
    "colab": {
      "provenance": []
    },
    "kernelspec": {
      "name": "python3",
      "display_name": "Python 3"
    },
    "language_info": {
      "name": "python"
    }
  },
  "cells": [
    {
      "cell_type": "code",
      "execution_count": 1,
      "metadata": {
        "colab": {
          "base_uri": "https://localhost:8080/"
        },
        "id": "gdlEvcAJop4d",
        "outputId": "83421c2c-00f0-40a6-8801-7a917c327ed7"
      },
      "outputs": [
        {
          "output_type": "stream",
          "name": "stdout",
          "text": [
            "Initial Head Position: 50\n",
            "Seek Sequence: 50 -> 176 -> 79 -> 41 -> 11\n",
            "Total Seek Distance: 291\n"
          ]
        }
      ],
      "source": [
        "head = 50\n",
        "\n",
        "requests = [176,79,41,11]\n",
        "n = len(requests)\n",
        "\n",
        "\n",
        "total_seek_distance = 0\n",
        "current_head = head\n",
        "\n",
        "\n",
        "print(\"Initial Head Position:\", head)\n",
        "print(\"Seek Sequence:\", head, end=\"\")\n",
        "\n",
        "for request in requests:\n",
        "\n",
        "    seek_distance = abs(request - current_head)\n",
        "\n",
        "    total_seek_distance += seek_distance\n",
        "\n",
        "    current_head = request\n",
        "\n",
        "    print(\" ->\", current_head, end=\"\")\n",
        "\n",
        "print(\"\\nTotal Seek Distance:\", total_seek_distance)\n"
      ]
    }
  ]
}