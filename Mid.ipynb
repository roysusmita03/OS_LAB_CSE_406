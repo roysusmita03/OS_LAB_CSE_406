{
  "nbformat": 4,
  "nbformat_minor": 0,
  "metadata": {
    "colab": {
      "provenance": []
    },
    "kernelspec": {
      "name": "python3",
      "display_name": "Python 3"
    },
    "language_info": {
      "name": "python"
    }
  },
  "cells": [
    {
      "cell_type": "code",
      "source": [
        "n = 5\n",
        "\n",
        "process_id = [\"p1\", \"p2\", \"p3\", \"p4\", \"p5\"]\n",
        "arrival_time = [2,10,3,2,0]\n",
        "burst_time = [4,1,2,5,5]\n",
        "\n",
        "\n",
        "for i in range(n - 1):\n",
        "    for j in range(i + 1, n):\n",
        "        if arrival_time[i] > arrival_time[j]:\n",
        "            arrival_time[i], arrival_time[j] = arrival_time[j], arrival_time[i]\n",
        "            burst_time[i], burst_time[j] = burst_time[j], burst_time[i]\n",
        "            process_id[i], process_id[j] = process_id[j], process_id[i]\n",
        "\n",
        "\n",
        "completion_time = [0,0,0,0,0]\n",
        "waiting_time = [0,0,0,0,0]\n",
        "turnaround_time = [0,0,0,0,0]\n",
        "current_time = 0\n",
        "\n",
        "for i in range(n):\n",
        "    shortest = i\n",
        "    for j in range(i + 1, n):\n",
        "        if arrival_time[j] <= current_time and burst_time[j] < burst_time[shortest]:\n",
        "            shortest = j\n",
        "\n",
        "\n",
        "    arrival_time[i], arrival_time[shortest] = arrival_time[shortest], arrival_time[i]\n",
        "    burst_time[i], burst_time[shortest] = burst_time[shortest], burst_time[i]\n",
        "    process_id[i], process_id[shortest] = process_id[shortest], process_id[i]\n",
        "\n",
        "\n",
        "    if current_time < arrival_time[i]:\n",
        "        current_time = arrival_time[i]\n",
        "\n",
        "    completion_time[i] = current_time + burst_time[i]\n",
        "    turnaround_time[i] = completion_time[i] - arrival_time[i]\n",
        "    waiting_time[i] = turnaround_time[i] - burst_time[i]\n",
        "    current_time = completion_time[i]\n",
        "\n",
        "\n",
        "print(\"EQueue\\tAT\\tBT\\tCT\\tTAT\\tWT\")\n",
        "for i in range(n):\n",
        "    print(f\"{process_id[i]}\\t{arrival_time[i]}\\t{burst_time[i]}\\t{completion_time[i]}\\t{turnaround_time[i]}\\t{waiting_time[i]}\")\n",
        "\n",
        "\n"
      ],
      "metadata": {
        "colab": {
          "base_uri": "https://localhost:8080/"
        },
        "id": "jU5ZM0JG2pkR",
        "outputId": "94f6a457-8d7f-4e05-974d-70b58cafc049"
      },
      "execution_count": 2,
      "outputs": [
        {
          "output_type": "stream",
          "name": "stdout",
          "text": [
            "EQueue\tAT\tBT\tCT\tTAT\tWT\n",
            "p5\t0\t5\t5\t5\t0\n",
            "p3\t3\t2\t7\t4\t2\n",
            "p1\t2\t4\t11\t9\t5\n",
            "p2\t10\t1\t12\t2\t1\n",
            "p4\t2\t5\t17\t15\t10\n"
          ]
        }
      ]
    },
    {
      "cell_type": "code",
      "source": [
        "def sstf_disk_scheduling(initial_head, requests):\n",
        "    head = initial_head\n",
        "    seek_sequence = []\n",
        "    total_seek = 0\n",
        "    remaining_requests = requests.copy()\n",
        "\n",
        "    while remaining_requests:\n",
        "\n",
        "        closest_request = min(remaining_requests, key=lambda x: abs(x - head))\n",
        "        seek_time = abs(closest_request - head)\n",
        "        total_seek += seek_time\n",
        "        seek_sequence.append(closest_request)\n",
        "        head = closest_request\n",
        "        remaining_requests.remove(closest_request)\n",
        "\n",
        "    return seek_sequence, total_seek\n",
        "\n",
        "\n",
        "if __name__ == \"__main__\":\n",
        "    initial_head_position = 55\n",
        "    request_queue = [137,240,179,75,118,29,15,51]\n",
        "\n",
        "    sequence, total_seek_ops = sstf_disk_scheduling(initial_head_position, request_queue)\n",
        "\n",
        "    print(\"SSTF Seek Sequence:\", sequence)\n",
        "    print(\"Total Seek Operations:\", total_seek_ops)"
      ],
      "metadata": {
        "colab": {
          "base_uri": "https://localhost:8080/"
        },
        "id": "MpBz3LEK2yFQ",
        "outputId": "6e034bcb-c7a7-476f-a1a0-1551b91e41e3"
      },
      "execution_count": 3,
      "outputs": [
        {
          "output_type": "stream",
          "name": "stdout",
          "text": [
            "SSTF Seek Sequence: [51, 29, 15, 75, 118, 137, 179, 240]\n",
            "Total Seek Operations: 265\n"
          ]
        }
      ]
    }
  ]
}